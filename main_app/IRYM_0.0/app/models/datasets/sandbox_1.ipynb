{
 "cells": [
  {
   "cell_type": "code",
   "execution_count": 6,
   "id": "da4751ea",
   "metadata": {},
   "outputs": [],
   "source": [
    "import pandas as pd\n",
    "import numpy as np\n"
   ]
  },
  {
   "cell_type": "code",
   "execution_count": 7,
   "id": "d67b4903",
   "metadata": {},
   "outputs": [
    {
     "name": "stdout",
     "output_type": "stream",
     "text": [
      "<class 'pandas.core.frame.DataFrame'>\n",
      "RangeIndex: 1000 entries, 0 to 999\n",
      "Data columns (total 3 columns):\n",
      " #   Column    Non-Null Count  Dtype \n",
      "---  ------    --------------  ----- \n",
      " 0   category  1000 non-null   object\n",
      " 1   query     1000 non-null   object\n",
      " 2   prompt    1000 non-null   object\n",
      "dtypes: object(3)\n",
      "memory usage: 23.6+ KB\n"
     ]
    },
    {
     "data": {
      "text/html": [
       "<div>\n",
       "<style scoped>\n",
       "    .dataframe tbody tr th:only-of-type {\n",
       "        vertical-align: middle;\n",
       "    }\n",
       "\n",
       "    .dataframe tbody tr th {\n",
       "        vertical-align: top;\n",
       "    }\n",
       "\n",
       "    .dataframe thead th {\n",
       "        text-align: right;\n",
       "    }\n",
       "</style>\n",
       "<table border=\"1\" class=\"dataframe\">\n",
       "  <thead>\n",
       "    <tr style=\"text-align: right;\">\n",
       "      <th></th>\n",
       "      <th>category</th>\n",
       "      <th>query</th>\n",
       "      <th>prompt</th>\n",
       "    </tr>\n",
       "  </thead>\n",
       "  <tbody>\n",
       "    <tr>\n",
       "      <th>0</th>\n",
       "      <td>nature</td>\n",
       "      <td>Draw a calm beach at dawn</td>\n",
       "      <td>A tranquil beach with soft waves, palm trees, ...</td>\n",
       "    </tr>\n",
       "    <tr>\n",
       "      <th>1</th>\n",
       "      <td>nature</td>\n",
       "      <td>Can you show me a peaceful forest?</td>\n",
       "      <td>A serene green forest with tall pine trees and...</td>\n",
       "    </tr>\n",
       "    <tr>\n",
       "      <th>2</th>\n",
       "      <td>nature</td>\n",
       "      <td>Can you show me a peaceful forest?</td>\n",
       "      <td>A serene green forest with tall pine trees and...</td>\n",
       "    </tr>\n",
       "    <tr>\n",
       "      <th>3</th>\n",
       "      <td>nature</td>\n",
       "      <td>I want to see a mountain lake</td>\n",
       "      <td>A crystal clear mountain lake surrounded by sn...</td>\n",
       "    </tr>\n",
       "    <tr>\n",
       "      <th>4</th>\n",
       "      <td>nature</td>\n",
       "      <td>What does a desert at sunset look like?</td>\n",
       "      <td>A golden desert with sand dunes glowing orange...</td>\n",
       "    </tr>\n",
       "  </tbody>\n",
       "</table>\n",
       "</div>"
      ],
      "text/plain": [
       "  category                                    query  \\\n",
       "0   nature                Draw a calm beach at dawn   \n",
       "1   nature       Can you show me a peaceful forest?   \n",
       "2   nature       Can you show me a peaceful forest?   \n",
       "3   nature            I want to see a mountain lake   \n",
       "4   nature  What does a desert at sunset look like?   \n",
       "\n",
       "                                              prompt  \n",
       "0  A tranquil beach with soft waves, palm trees, ...  \n",
       "1  A serene green forest with tall pine trees and...  \n",
       "2  A serene green forest with tall pine trees and...  \n",
       "3  A crystal clear mountain lake surrounded by sn...  \n",
       "4  A golden desert with sand dunes glowing orange...  "
      ]
     },
     "execution_count": 7,
     "metadata": {},
     "output_type": "execute_result"
    }
   ],
   "source": [
    "path1 = r\"./prompt_query_pairs.csv\"\n",
    "data = pd.read_csv(path1)\n",
    "data.info()\n",
    "data.head()"
   ]
  },
  {
   "cell_type": "code",
   "execution_count": 16,
   "id": "65ca61a6",
   "metadata": {},
   "outputs": [],
   "source": [
    "import json \n",
    "import os \n",
    "import random\n",
    "import requests\n",
    "from pydantic import BaseModel, Field\n",
    "from typing import List, Optional, Literal\n",
    "from datetime import datetime\n",
    "# ! pip install -qU json_repair\n",
    "import json_repair\n",
    "from transformers import AutoModelForCausalLM, AutoTokenizer, BitsAndBytesConfig\n",
    "import torch"
   ]
  },
  {
   "cell_type": "code",
   "execution_count": 10,
   "id": "edc7ebf6",
   "metadata": {},
   "outputs": [],
   "source": [
    "raw = data[[\"query\", 'prompt']]"
   ]
  },
  {
   "cell_type": "code",
   "execution_count": 20,
   "id": "a497b4e5",
   "metadata": {},
   "outputs": [],
   "source": [
    "model_name = \"Qwen/Qwen2.5-1.5B-Instruct\" "
   ]
  },
  {
   "cell_type": "code",
   "execution_count": 25,
   "id": "217ab605",
   "metadata": {},
   "outputs": [],
   "source": [
    "user_prompt = \"create an person with red shairt and white car in the day with background in sky add some green trees\""
   ]
  },
  {
   "cell_type": "code",
   "execution_count": 26,
   "id": "ba334520",
   "metadata": {},
   "outputs": [],
   "source": [
    "# what i want form the model  \n",
    "\"\"\"\n",
    "\n",
    "message_structure = {\n",
    "    \"type\": \"\", # type of the scene nature, city, animal, etc...\n",
    "    \"shape\": \"\", #shape of the scene circle, square, etc...\n",
    "    \"objects\": [\n",
    "            {\n",
    "                \"type\": \"\",\n",
    "                \"colors\": [],\n",
    "                \"\n",
    "            }\n",
    "        ], # objects on the seans\n",
    "    \"colors\":[], # color of the objects\n",
    "    \"background\":[], # background color of the screen\n",
    "    \"mode\": [], # light, night, dark ,day , etc...\n",
    "}\n",
    "\n",
    "\n",
    "\"\"\"\n",
    "\n",
    "SceneTypes = Literal[\"nature\", \"city\", \"animal\", \"animation\"]\n",
    "Shapes = Literal[\"circle\", \"square\", \"triangle\", \"rectangle\"]\n",
    "ObjectTypes = Literal[\n",
    "    \"human\", \"man\", \"woman\", \"person\", \"tree\", \"car\", \"building\", \"bridge\",\n",
    "    \"mountain\", \"bird\", \"fish\", \"flower\", \"sun\", \"moon\",\n",
    "]\n",
    "Modes = Literal[\"light\", \"dark\", \"day\", \"night\"]\n",
    "\n",
    "# identfy the object in the scene\n",
    "class ObjectInScene(BaseModel):\n",
    "    object_type: ObjectTypes = Field(..., description=\"Type of the object in the scene\")\n",
    "    colors: List[str] = Field(..., min_items=1, description=\"List of colors in the object\")\n",
    "\n",
    "# identfy the scene\n",
    "class Scene(BaseModel):\n",
    "    scene_type: SceneTypes = Field(..., description=\"General type of the scene\")\n",
    "    shape: Shapes = Field(..., description=\"Geometric shape of the scene\")\n",
    "    objects: List[ObjectInScene] = Field(..., min_items=1,max_items=10, description=\"Objects in the scene\")\n",
    "    colors: List[str] = Field(..., min_items=1, max_items=10,description=\"Main object colors in the scene\")\n",
    "    background: List[str] = Field(..., min_items=1, max_items=10, description=\"Background colors of the scene\")\n",
    "    mode: Modes = Field(..., description=\"Lighting or mood mode like night or day\")"
   ]
  },
  {
   "cell_type": "code",
   "execution_count": null,
   "id": "f4fa5d65",
   "metadata": {},
   "outputs": [],
   "source": [
    "extraction_message = [\n",
    "    {\n",
    "        \"role\": \"system\",\n",
    "        \"content\": \"\\n\".join([\n",
    "            \"You are an expert NLP data parser.\",\n",
    "            \"Your task is to extract structured information from the input text.\",\n",
    "            \"You must return the extracted data as a valid JSON object based on the Pydantic model provided.\",\n",
    "            \"Do not add any explanation, introduction, or summary — just return the raw JSON.\"\n",
    "        ])\n",
    "    },\n",
    "    {\n",
    "        \"role\": \"user\",\n",
    "        \"content\": \"\\n\".join([\n",
    "            \"Prompt:\",\n",
    "            user_prompt.strip(),\n",
    "            \"\\nPydantic schema (use this as a reference for keys and types):\",\n",
    "            json.dumps(Scene.model_json_schema(), indent=2, ensure_ascii=False)\n",
    "        ])\n",
    "    }\n",
    "]\n"
   ]
  },
  {
   "cell_type": "code",
   "execution_count": null,
   "id": "f1dcd7e6",
   "metadata": {},
   "outputs": [],
   "source": [
    "model_name = \"Qwen/Qwen2.5-1.5B-Instruct\"\n",
    "\n",
    "model = AutoModelForCausalLM.from_pretrained(\n",
    "    model_name,\n",
    "    torch_dtype=\"auto\",\n",
    "    device_map=\"auto\"\n",
    ")\n",
    "tokenizer = AutoTokenizer.from_pretrained(model_name)\n",
    "\n"
   ]
  },
  {
   "cell_type": "code",
   "execution_count": null,
   "id": "2d66998e",
   "metadata": {},
   "outputs": [],
   "source": []
  }
 ],
 "metadata": {
  "kernelspec": {
   "display_name": "irym_0.0.0",
   "language": "python",
   "name": "python3"
  },
  "language_info": {
   "codemirror_mode": {
    "name": "ipython",
    "version": 3
   },
   "file_extension": ".py",
   "mimetype": "text/x-python",
   "name": "python",
   "nbconvert_exporter": "python",
   "pygments_lexer": "ipython3",
   "version": "3.10.18"
  }
 },
 "nbformat": 4,
 "nbformat_minor": 5
}
